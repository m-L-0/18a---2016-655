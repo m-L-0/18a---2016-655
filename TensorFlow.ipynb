{
 "cells": [
  {
   "cell_type": "code",
   "execution_count": 4,
   "metadata": {},
   "outputs": [],
   "source": [
    "#1.将鸢尾花数据集安装8 : 2的比例划分成训练集与验证集\n",
    "\n",
    "#导入数据集iris\n",
    "from sklearn.datasets import load_iris \n",
    "\n",
    "#读取数据集  \n",
    "iris = load_iris()  \n",
    "\n",
    "#分割数据集\n",
    "from sklearn.model_selection import train_test_split\n",
    "\n",
    "x=iris.data\n",
    "y=iris.target\n",
    "x_train,x_test,y_train,y_test=train_test_split(x,y,test_size=0.2,random_state=0)"
   ]
  },
  {
   "cell_type": "code",
   "execution_count": 5,
   "metadata": {},
   "outputs": [],
   "source": [
    "#2.设计模型、训练模型\n",
    "import tensorflow as tf\n",
    "# 计算L1距离\n",
    "xtrain=tf.placeholder('float')\n",
    "xtest=tf.placeholder('float')\n",
    "distance = tf.reduce_sum(tf.abs(tf.add(xtrain, tf.negative(xtest))), axis=1)\n",
    "# 预测: 获得最小距离的索引\n",
    "pred = tf.argmin(distance, 0)"
   ]
  },
  {
   "cell_type": "code",
   "execution_count": 6,
   "metadata": {},
   "outputs": [
    {
     "name": "stdout",
     "output_type": "stream",
     "text": [
      "Test 0 Predicted Class Label: 0 True Class Label: 0\n",
      "Test 1 Predicted Class Label: 0 True Class Label: 0\n",
      "Test 2 Predicted Class Label: 0 True Class Label: 0\n",
      "Test 3 Predicted Class Label: 0 True Class Label: 0\n",
      "Test 4 Predicted Class Label: 0 True Class Label: 0\n",
      "Test 5 Predicted Class Label: 0 True Class Label: 0\n",
      "Test 6 Predicted Class Label: 0 True Class Label: 0\n",
      "Test 7 Predicted Class Label: 0 True Class Label: 0\n",
      "Test 8 Predicted Class Label: 0 True Class Label: 0\n",
      "Test 9 Predicted Class Label: 0 True Class Label: 0\n",
      "Test 10 Predicted Class Label: 0 True Class Label: 0\n",
      "Test 11 Predicted Class Label: 0 True Class Label: 0\n",
      "Test 12 Predicted Class Label: 0 True Class Label: 0\n",
      "Test 13 Predicted Class Label: 0 True Class Label: 0\n",
      "Test 14 Predicted Class Label: 0 True Class Label: 0\n",
      "Test 15 Predicted Class Label: 0 True Class Label: 0\n",
      "Test 16 Predicted Class Label: 0 True Class Label: 0\n",
      "Test 17 Predicted Class Label: 0 True Class Label: 0\n",
      "Test 18 Predicted Class Label: 0 True Class Label: 0\n",
      "Test 19 Predicted Class Label: 0 True Class Label: 0\n",
      "Test 20 Predicted Class Label: 0 True Class Label: 0\n",
      "Test 21 Predicted Class Label: 0 True Class Label: 0\n",
      "Test 22 Predicted Class Label: 0 True Class Label: 0\n",
      "Test 23 Predicted Class Label: 0 True Class Label: 0\n",
      "Test 24 Predicted Class Label: 0 True Class Label: 0\n",
      "Test 25 Predicted Class Label: 0 True Class Label: 0\n",
      "Test 26 Predicted Class Label: 0 True Class Label: 0\n",
      "Test 27 Predicted Class Label: 0 True Class Label: 0\n",
      "Test 28 Predicted Class Label: 0 True Class Label: 0\n",
      "Test 29 Predicted Class Label: 0 True Class Label: 0\n",
      "Done!\n",
      "Accuracy: 1.0\n"
     ]
    }
   ],
   "source": [
    "#3.验证模型\n",
    "import tensorflow as tf\n",
    "import numpy as np\n",
    "# 初始化节点\n",
    "init = tf.global_variables_initializer()\n",
    "\n",
    "#最近邻分类器的准确率\n",
    "accuracy = 0.\n",
    "\n",
    "# 启动会话\n",
    "with tf.Session() as sess:\n",
    "    sess.run(init)\n",
    "    Ntest = len(x_test)  #测试样本的数量\n",
    "    # 在测试集上进行循环\n",
    "    for i in range(Ntest):\n",
    "        # 获取当前测试样本的最近邻\n",
    "        nn_index = sess.run(pred, feed_dict={xtrain: x_train, xtest: x_test[i, :]})\n",
    "        # 获得最近邻预测标签\n",
    "        pred_class_label = np.argmax(y_train[nn_index])\n",
    "        j = y_train[nn_index]\n",
    "        # 获得真实标签\n",
    "        true_class_label = np.argmax(y_test[i])\n",
    "        #比较最近邻预测标签和真实标签\n",
    "        print(\"Test\", i, \"Predicted Class Label:\", pred_class_label,\n",
    "              \"True Class Label:\", true_class_label)\n",
    "        # 计算准确率\n",
    "        if pred_class_label == true_class_label:\n",
    "            accuracy += 1\n",
    "print(\"Done!\")\n",
    "accuracy=accuracy/Ntest\n",
    "print(\"Accuracy:\", accuracy)"
   ]
  },
  {
   "cell_type": "code",
   "execution_count": null,
   "metadata": {},
   "outputs": [],
   "source": []
  }
 ],
 "metadata": {
  "kernelspec": {
   "display_name": "Python 3",
   "language": "python",
   "name": "python3"
  },
  "language_info": {
   "codemirror_mode": {
    "name": "ipython",
    "version": 3
   },
   "file_extension": ".py",
   "mimetype": "text/x-python",
   "name": "python",
   "nbconvert_exporter": "python",
   "pygments_lexer": "ipython3",
   "version": "3.5.2"
  }
 },
 "nbformat": 4,
 "nbformat_minor": 2
}
